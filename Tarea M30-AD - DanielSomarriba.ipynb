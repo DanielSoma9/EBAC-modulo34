{
 "cells": [
  {
   "cell_type": "code",
   "execution_count": 1,
   "id": "5006a2d4-d5fb-4f96-aa44-433b01144c65",
   "metadata": {},
   "outputs": [],
   "source": [
    "#Importar librerias necesarias\n",
    "import pandas as pd\n",
    "import matplotlib.pyplot as plt\n",
    "from datetime import datetime"
   ]
  },
  {
   "cell_type": "code",
   "execution_count": 2,
   "id": "d93f63d1-1928-4f77-935f-b949821f0639",
   "metadata": {},
   "outputs": [],
   "source": [
    "#LEER ARCHIVO CSV\n",
    "df = pd.read_csv('fifa_eda.csv')"
   ]
  },
  {
   "cell_type": "code",
   "execution_count": 3,
   "id": "7c5cd1fb-9559-40e4-af58-684497b76ebd",
   "metadata": {},
   "outputs": [
    {
     "name": "stdout",
     "output_type": "stream",
     "text": [
      "Primeras 20 filas:\n",
      "        ID               Name  Age Nationality  Overall  Potential  \\\n",
      "0   158023           L. Messi   31   Argentina       94         94   \n",
      "1    20801  Cristiano Ronaldo   33    Portugal       94         94   \n",
      "2   190871          Neymar Jr   26      Brazil       92         93   \n",
      "3   193080             De Gea   27       Spain       91         93   \n",
      "4   192985       K. De Bruyne   27     Belgium       91         92   \n",
      "5   183277          E. Hazard   27     Belgium       91         91   \n",
      "6   177003          L. Modrić   32     Croatia       91         91   \n",
      "7   176580          L. Suárez   31     Uruguay       91         91   \n",
      "8   155862       Sergio Ramos   32       Spain       91         91   \n",
      "9   200389           J. Oblak   25    Slovenia       90         93   \n",
      "10  188545     R. Lewandowski   29      Poland       90         90   \n",
      "11  182521           T. Kroos   28     Germany       90         90   \n",
      "12  182493           D. Godín   32     Uruguay       90         90   \n",
      "13  168542        David Silva   32       Spain       90         90   \n",
      "14  215914           N. Kanté   27      France       89         90   \n",
      "15  211110          P. Dybala   24   Argentina       89         94   \n",
      "16  202126            H. Kane   24     England       89         91   \n",
      "17  194765       A. Griezmann   27      France       89         90   \n",
      "18  192448      M. ter Stegen   26     Germany       89         92   \n",
      "19  192119        T. Courtois   26     Belgium       89         90   \n",
      "\n",
      "                   Club     Value   Wage Preferred Foot  \\\n",
      "0          FC Barcelona  110500.0  565.0           Left   \n",
      "1              Juventus   77000.0  405.0          Right   \n",
      "2   Paris Saint-Germain  118500.0  290.0          Right   \n",
      "3     Manchester United   72000.0  260.0          Right   \n",
      "4       Manchester City  102000.0  355.0          Right   \n",
      "5               Chelsea   93000.0  340.0          Right   \n",
      "6           Real Madrid   67000.0  420.0          Right   \n",
      "7          FC Barcelona   80000.0  455.0          Right   \n",
      "8           Real Madrid   51000.0  380.0          Right   \n",
      "9       Atlético Madrid   68000.0   94.0          Right   \n",
      "10    FC Bayern München   77000.0  205.0          Right   \n",
      "11          Real Madrid   76500.0  355.0          Right   \n",
      "12      Atlético Madrid   44000.0  125.0          Right   \n",
      "13      Manchester City   60000.0  285.0           Left   \n",
      "14              Chelsea   63000.0  225.0          Right   \n",
      "15             Juventus   89000.0  205.0           Left   \n",
      "16    Tottenham Hotspur   83500.0  205.0          Right   \n",
      "17      Atlético Madrid   78000.0  145.0           Left   \n",
      "18         FC Barcelona   58000.0  240.0          Right   \n",
      "19          Real Madrid   53500.0  240.0           Left   \n",
      "\n",
      "    International Reputation  Skill Moves Position  Joined  \\\n",
      "0                        5.0          4.0       RF    2004   \n",
      "1                        5.0          5.0       ST    2018   \n",
      "2                        5.0          5.0       LW    2017   \n",
      "3                        4.0          1.0       GK    2011   \n",
      "4                        4.0          4.0      RCM    2015   \n",
      "5                        4.0          4.0       LF    2012   \n",
      "6                        4.0          4.0      RCM    2012   \n",
      "7                        5.0          3.0       RS    2014   \n",
      "8                        4.0          3.0      RCB    2005   \n",
      "9                        3.0          1.0       GK    2014   \n",
      "10                       4.0          4.0       ST    2014   \n",
      "11                       4.0          3.0      LCM    2014   \n",
      "12                       3.0          2.0       CB    2010   \n",
      "13                       4.0          4.0      LCM    2010   \n",
      "14                       3.0          2.0      LDM    2016   \n",
      "15                       3.0          4.0       LF    2015   \n",
      "16                       3.0          3.0       ST    2010   \n",
      "17                       4.0          4.0      CAM    2014   \n",
      "18                       3.0          1.0       GK    2014   \n",
      "19                       4.0          1.0       GK    2018   \n",
      "\n",
      "   Contract Valid Until    Height  Weight  Release Clause  \n",
      "0            2021-01-01  5.583333   159.0        226500.0  \n",
      "1            2022-01-01  6.166667   183.0        127100.0  \n",
      "2            2022-01-01  5.750000   150.0        228100.0  \n",
      "3            2020-01-01  6.333333   168.0        138600.0  \n",
      "4            2023-01-01  5.916667   154.0        196400.0  \n",
      "5            2020-01-01  5.666667   163.0        172100.0  \n",
      "6            2020-01-01  5.666667   146.0        137400.0  \n",
      "7            2021-01-01  6.000000   190.0        164000.0  \n",
      "8            2020-01-01  6.000000   181.0        104600.0  \n",
      "9            2021-01-01  6.166667   192.0        144500.0  \n",
      "10           2021-01-01  6.000000   176.0        127100.0  \n",
      "11           2022-01-01  6.000000   168.0        156800.0  \n",
      "12           2019-01-01  6.166667   172.0         90200.0  \n",
      "13           2020-01-01  5.666667   148.0        111000.0  \n",
      "14           2023-01-01  5.500000   159.0        121300.0  \n",
      "15           2022-01-01  5.833333   165.0        153500.0  \n",
      "16           2024-01-01  6.166667   196.0        160700.0  \n",
      "17           2023-01-01  5.750000   161.0        165800.0  \n",
      "18           2022-01-01  6.166667   187.0        123300.0  \n",
      "19           2024-01-01  6.500000   212.0        113700.0  \n"
     ]
    }
   ],
   "source": [
    "#MOSTRAR LAS PRIMERAS 20 FILAS\n",
    "print('Primeras 20 filas:')\n",
    "print(df.head(20))"
   ]
  },
  {
   "cell_type": "code",
   "execution_count": 4,
   "id": "b27d866e-6cb4-4450-b1ca-5d57665f695d",
   "metadata": {},
   "outputs": [
    {
     "name": "stdout",
     "output_type": "stream",
     "text": [
      "Ultimas 5 filas:\n",
      "           ID                Name  Age Nationality  Overall  Potential  \\\n",
      "18202  238813        J. Lundstram   19     England       47         65   \n",
      "18203  243165  N. Christoffersson   19      Sweden       47         63   \n",
      "18204  241638           B. Worman   16     England       47         67   \n",
      "18205  246268      D. Walker-Rice   17     England       47         66   \n",
      "18206  246269           G. Nugent   16     England       46         66   \n",
      "\n",
      "                   Club  Value  Wage Preferred Foot  International Reputation  \\\n",
      "18202   Crewe Alexandra   60.0   1.0          Right                       1.0   \n",
      "18203    Trelleborgs FF   60.0   1.0          Right                       1.0   \n",
      "18204  Cambridge United   60.0   1.0          Right                       1.0   \n",
      "18205   Tranmere Rovers   60.0   1.0          Right                       1.0   \n",
      "18206   Tranmere Rovers   60.0   1.0          Right                       1.0   \n",
      "\n",
      "       Skill Moves Position  Joined Contract Valid Until    Height  Weight  \\\n",
      "18202          2.0       CM    2017           2019-01-01  5.750000   134.0   \n",
      "18203          2.0       ST    2018           2020-01-01  6.250000   170.0   \n",
      "18204          2.0       ST    2017           2021-01-01  5.666667   148.0   \n",
      "18205          2.0       RW    2018           2019-01-01  5.833333   154.0   \n",
      "18206          2.0       CM    2018           2019-01-01  5.833333   176.0   \n",
      "\n",
      "       Release Clause  \n",
      "18202           143.0  \n",
      "18203           113.0  \n",
      "18204           165.0  \n",
      "18205           143.0  \n",
      "18206           165.0  \n"
     ]
    }
   ],
   "source": [
    "#ULTIMAS 5 FILAS\n",
    "print('Ultimas 5 filas:')\n",
    "print(df.tail(5))"
   ]
  },
  {
   "cell_type": "code",
   "execution_count": 5,
   "id": "6ea34479-9da1-440e-8360-a5f107cdaebf",
   "metadata": {},
   "outputs": [
    {
     "name": "stdout",
     "output_type": "stream",
     "text": [
      "           ID           Name  Age       Nationality  Overall  Potential  \\\n",
      "14331  244105       J. Asiri   20      Saudi Arabia       61         73   \n",
      "14079  202544  C. Reppesgård   25            Norway       61         64   \n",
      "13244  239158       R. Minor   30           Denmark       62         62   \n",
      "1945   222390     Unai López   22             Spain       75         82   \n",
      "1905   138918      L. Rigoni   33             Italy       75         75   \n",
      "15513  159074      D. Shiels   33  Northern Ireland       59         59   \n",
      "4286   191079        H. Dean   26           England       71         73   \n",
      "1068   178322       M. Layún   30            Mexico       77         77   \n",
      "466    203042     J. Butland   25           England       80         85   \n",
      "8137   222319      J. Ángulo   22          Colombia       67         77   \n",
      "\n",
      "                          Club    Value  Wage Preferred Foot  \\\n",
      "14331                 Al Wehda    450.0   4.0           Left   \n",
      "14079       Sandefjord Fotball    270.0   1.0          Right   \n",
      "13244                 Hobro IK    230.0   2.0          Right   \n",
      "1945   Athletic Club de Bilbao   9000.0  19.0          Right   \n",
      "1905                     Parma   3900.0  37.0          Right   \n",
      "15513               Derry City     90.0   1.0          Right   \n",
      "4286           Birmingham City   2400.0  17.0          Right   \n",
      "1068             Villarreal CF   6500.0  28.0          Right   \n",
      "466                 Stoke City  14000.0  39.0          Right   \n",
      "8137            Deportivo Cali   1100.0   1.0           Left   \n",
      "\n",
      "       International Reputation  Skill Moves Position  Joined  \\\n",
      "14331                       1.0          2.0       ST    2017   \n",
      "14079                       1.0          2.0       CB    2012   \n",
      "13244                       NaN          NaN       LB    2016   \n",
      "1945                        1.0          3.0       CM    2013   \n",
      "1905                        2.0          3.0      LCM    2018   \n",
      "15513                       1.0          2.0      LCM    2018   \n",
      "4286                        1.0          2.0      LCB    2017   \n",
      "1068                        3.0          3.0      RCM    2018   \n",
      "466                         2.0          1.0       GK    2013   \n",
      "8137                        1.0          3.0       LB    2014   \n",
      "\n",
      "      Contract Valid Until    Height      Weight  Release Clause  \n",
      "14331           2021-01-01  5.833333  141.000000      855.000000  \n",
      "14079           2019-01-01  6.166667  185.000000      358.000000  \n",
      "13244                  NaN  5.946771  165.979129     4585.060806  \n",
      "1945            2022-01-01  5.583333  154.000000    20700.000000  \n",
      "1905            2019-01-01  6.083333  168.000000     7000.000000  \n",
      "15513           2019-01-01  5.916667  146.000000      140.000000  \n",
      "4286            2020-01-01  6.250000  165.000000     4700.000000  \n",
      "1068            2021-01-01  5.916667  168.000000    13700.000000  \n",
      "466             2021-01-01  6.416667  209.000000    27700.000000  \n",
      "8137            2023-01-01  6.000000  163.000000     1700.000000  \n"
     ]
    }
   ],
   "source": [
    "#MOSTRAR SAMPLE DE 10 FILAS\n",
    "print(df.sample(10))"
   ]
  },
  {
   "cell_type": "code",
   "execution_count": 6,
   "id": "b54b5634-a075-43a0-8745-fe596af10bed",
   "metadata": {},
   "outputs": [
    {
     "name": "stdout",
     "output_type": "stream",
     "text": [
      "                  ID           Age       Overall     Potential          Value  \\\n",
      "count   18207.000000  18207.000000  18207.000000  18207.000000   17955.000000   \n",
      "mean   214298.338606     25.122206     66.238699     71.307299    2444.530214   \n",
      "std     29965.244204      4.669943      6.908930      6.136496    5626.715434   \n",
      "min        16.000000     16.000000     46.000000     48.000000      10.000000   \n",
      "25%    200315.500000     21.000000     62.000000     67.000000     325.000000   \n",
      "50%    221759.000000     25.000000     66.000000     71.000000     700.000000   \n",
      "75%    236529.500000     28.000000     71.000000     75.000000    2100.000000   \n",
      "max    246620.000000     45.000000     94.000000     95.000000  118500.000000   \n",
      "\n",
      "               Wage  International Reputation   Skill Moves        Joined  \\\n",
      "count  18207.000000              18159.000000  18159.000000  18207.000000   \n",
      "mean       9.731312                  1.113222      2.361308   2016.420607   \n",
      "std       21.999290                  0.394031      0.756164      2.018194   \n",
      "min        0.000000                  1.000000      1.000000   1991.000000   \n",
      "25%        1.000000                  1.000000      2.000000   2016.000000   \n",
      "50%        3.000000                  1.000000      2.000000   2017.000000   \n",
      "75%        9.000000                  1.000000      3.000000   2018.000000   \n",
      "max      565.000000                  5.000000      5.000000   2018.000000   \n",
      "\n",
      "             Height        Weight  Release Clause  \n",
      "count  18207.000000  18207.000000    18207.000000  \n",
      "mean       5.946771    165.979129     4585.060971  \n",
      "std        0.220514     15.572775    10630.414430  \n",
      "min        5.083333    110.000000       13.000000  \n",
      "25%        5.750000    154.000000      570.000000  \n",
      "50%        5.916667    165.000000     1300.000000  \n",
      "75%        6.083333    176.000000     4585.060806  \n",
      "max        6.750000    243.000000   228100.000000  \n"
     ]
    }
   ],
   "source": [
    "#GENERAR DATA ESTADISTICA\n",
    "print(df.describe())"
   ]
  },
  {
   "cell_type": "code",
   "execution_count": 7,
   "id": "09f0b8ec-a664-4d42-bc2e-91e4e3385671",
   "metadata": {},
   "outputs": [
    {
     "name": "stdout",
     "output_type": "stream",
     "text": [
      "ID                            int64\n",
      "Name                         object\n",
      "Age                           int64\n",
      "Nationality                  object\n",
      "Overall                       int64\n",
      "Potential                     int64\n",
      "Club                         object\n",
      "Value                       float64\n",
      "Wage                        float64\n",
      "Preferred Foot               object\n",
      "International Reputation    float64\n",
      "Skill Moves                 float64\n",
      "Position                     object\n",
      "Joined                        int64\n",
      "Contract Valid Until         object\n",
      "Height                      float64\n",
      "Weight                      float64\n",
      "Release Clause              float64\n",
      "dtype: object\n"
     ]
    }
   ],
   "source": [
    "#MOSTRAR LOS TIPOS DE DATOS\n",
    "print(df.dtypes)"
   ]
  },
  {
   "cell_type": "code",
   "execution_count": 8,
   "id": "86af8384-c239-431e-a098-1644237ac7b5",
   "metadata": {},
   "outputs": [],
   "source": [
    "#CONVERTIR A COLUMNAS NUMERICAS SI ES NECESARIO\n",
    "# Ejemplo: columnas 'Age' y 'Overall' (cambia según tu CSV)\n",
    "df['Age'] = pd.to_numeric(df['Age'], errors='coerce')\n",
    "df['Overall'] = pd.to_numeric(df['Overall'], errors='coerce')\n",
    "\n"
   ]
  },
  {
   "cell_type": "code",
   "execution_count": 10,
   "id": "17ef1fca-2eca-48cf-88c4-fe6cc17540af",
   "metadata": {},
   "outputs": [
    {
     "name": "stdout",
     "output_type": "stream",
     "text": [
      "Descripción estadística después de convertir columnas a numéricas:\n",
      "                  ID           Age       Overall     Potential          Value  \\\n",
      "count   18207.000000  18207.000000  18207.000000  18207.000000   17955.000000   \n",
      "mean   214298.338606     25.122206     66.238699     71.307299    2444.530214   \n",
      "std     29965.244204      4.669943      6.908930      6.136496    5626.715434   \n",
      "min        16.000000     16.000000     46.000000     48.000000      10.000000   \n",
      "25%    200315.500000     21.000000     62.000000     67.000000     325.000000   \n",
      "50%    221759.000000     25.000000     66.000000     71.000000     700.000000   \n",
      "75%    236529.500000     28.000000     71.000000     75.000000    2100.000000   \n",
      "max    246620.000000     45.000000     94.000000     95.000000  118500.000000   \n",
      "\n",
      "               Wage  International Reputation   Skill Moves        Joined  \\\n",
      "count  18207.000000              18159.000000  18159.000000  18207.000000   \n",
      "mean       9.731312                  1.113222      2.361308   2016.420607   \n",
      "std       21.999290                  0.394031      0.756164      2.018194   \n",
      "min        0.000000                  1.000000      1.000000   1991.000000   \n",
      "25%        1.000000                  1.000000      2.000000   2016.000000   \n",
      "50%        3.000000                  1.000000      2.000000   2017.000000   \n",
      "75%        9.000000                  1.000000      3.000000   2018.000000   \n",
      "max      565.000000                  5.000000      5.000000   2018.000000   \n",
      "\n",
      "             Height        Weight  Release Clause  \n",
      "count  18207.000000  18207.000000    18207.000000  \n",
      "mean       5.946771    165.979129     4585.060971  \n",
      "std        0.220514     15.572775    10630.414430  \n",
      "min        5.083333    110.000000       13.000000  \n",
      "25%        5.750000    154.000000      570.000000  \n",
      "50%        5.916667    165.000000     1300.000000  \n",
      "75%        6.083333    176.000000     4585.060806  \n",
      "max        6.750000    243.000000   228100.000000  \n"
     ]
    }
   ],
   "source": [
    "#VOLVER A APLICAR DESCRIBE PARA INCLUIR ESTAS COLUMNAS\n",
    "print(\"Descripción estadística después de convertir columnas a numéricas:\")\n",
    "print(df.describe())\n",
    "\n"
   ]
  },
  {
   "cell_type": "code",
   "execution_count": 11,
   "id": "14ab34ec-3c7a-48ea-adc6-270b1c1f9515",
   "metadata": {},
   "outputs": [
    {
     "name": "stdout",
     "output_type": "stream",
     "text": [
      "Dataset con columna 'Years Playing':\n",
      "                Name  Joined  Years Playing\n",
      "0           L. Messi    2004             21\n",
      "1  Cristiano Ronaldo    2018              7\n",
      "2          Neymar Jr    2017              8\n",
      "3             De Gea    2011             14\n",
      "4       K. De Bruyne    2015             10\n"
     ]
    }
   ],
   "source": [
    "#AÑADIR COLUMNA YEARS PLAYING\n",
    "current_year = datetime.now().year\n",
    "df['Years Playing'] = current_year - pd.to_numeric(df['Joined'], errors='coerce')\n",
    "\n",
    "print(\"Dataset con columna 'Years Playing':\")\n",
    "print(df[['Name','Joined','Years Playing']].head())\n",
    "\n"
   ]
  },
  {
   "cell_type": "code",
   "execution_count": 12,
   "id": "77467268-b7e2-4049-86cc-4160369dc1a9",
   "metadata": {},
   "outputs": [
    {
     "name": "stdout",
     "output_type": "stream",
     "text": [
      "Jugadores de México:\n",
      "           ID          Name  Age Nationality  Overall  Potential  \\\n",
      "306    171897   A. Guardado   31      Mexico       82         82   \n",
      "329    221992     H. Lozano   22      Mexico       81         86   \n",
      "371    193165     J. Corona   25      Mexico       81         83   \n",
      "397    169416       C. Vela   29      Mexico       81         81   \n",
      "406    156519    H. Herrera   28      Mexico       81         81   \n",
      "...       ...           ...  ...         ...      ...        ...   \n",
      "17373  244828  R. Gutiérrez   22      Mexico       54         64   \n",
      "17614  239739      A. Ocejo   20      Mexico       53         62   \n",
      "18037  246089      C. Landa   19      Mexico       50         60   \n",
      "18068  240286     J. García   20      Mexico       50         62   \n",
      "18113  237045    R. Pasquel   22      Mexico       50         60   \n",
      "\n",
      "                              Club    Value  Wage Preferred Foot  \\\n",
      "306                     Real Betis  19000.0  35.0           Left   \n",
      "329                            PSV  24000.0  22.0          Right   \n",
      "371                       FC Porto  21500.0  18.0          Right   \n",
      "397                 Los Angeles FC  17500.0  15.0           Left   \n",
      "406                       FC Porto  17500.0  20.0          Right   \n",
      "...                            ...      ...   ...            ...   \n",
      "17373             Monarcas Morelia     80.0   1.0          Right   \n",
      "17614                Santos Laguna     90.0   2.0           Left   \n",
      "18037  Tiburones Rojos de Veracruz     50.0   1.0           Left   \n",
      "18068                Santos Laguna     40.0   1.0          Right   \n",
      "18113             Deportivo Toluca     40.0   2.0          Right   \n",
      "\n",
      "       International Reputation  Skill Moves Position  Joined  \\\n",
      "306                         3.0          4.0       CM    2017   \n",
      "329                         3.0          4.0       LS    2017   \n",
      "371                         3.0          5.0       RM    2015   \n",
      "397                         3.0          4.0       RW    2018   \n",
      "406                         3.0          3.0       CM    2013   \n",
      "...                         ...          ...      ...     ...   \n",
      "17373                       1.0          1.0       GK    2018   \n",
      "17614                       1.0          2.0       LM    2017   \n",
      "18037                       1.0          2.0       CM    2018   \n",
      "18068                       1.0          1.0       GK    2017   \n",
      "18113                       1.0          1.0       GK    2017   \n",
      "\n",
      "      Contract Valid Until    Height  Weight  Release Clause  Years Playing  \n",
      "306             2020-01-01  5.583333   148.0         39900.0              8  \n",
      "329             2023-01-01  5.750000   154.0         35400.0              8  \n",
      "371             2020-01-01  5.666667   137.0         44600.0             10  \n",
      "397             2022-01-01  5.833333   170.0         26300.0              7  \n",
      "406             2019-01-01  6.000000   159.0         35000.0             12  \n",
      "...                    ...       ...     ...             ...            ...  \n",
      "17373           2021-01-01  5.916667   168.0           152.0              7  \n",
      "17614           2021-01-01  5.916667   157.0           171.0              8  \n",
      "18037           2021-01-01  6.000000   174.0            93.0              7  \n",
      "18068           2021-01-01  6.083333   159.0            76.0              8  \n",
      "18113           2021-01-01  5.916667   168.0            76.0              8  \n",
      "\n",
      "[366 rows x 19 columns]\n"
     ]
    }
   ],
   "source": [
    "#BUSCAR Y MOSTRAR TODOS LOS JUGADORES DE MEXICO\n",
    "mexico_players = df[df['Nationality'] == 'Mexico']\n",
    "print(\"Jugadores de México:\")\n",
    "print(mexico_players)\n",
    "\n"
   ]
  },
  {
   "cell_type": "code",
   "execution_count": 16,
   "id": "f0f0b1ab-621d-4815-a550-d8515d37fc27",
   "metadata": {},
   "outputs": [
    {
     "name": "stdout",
     "output_type": "stream",
     "text": [
      "Dataset ordenado por Release Clause:\n",
      "            Name Nationality  Release Clause\n",
      "2      Neymar Jr      Brazil        228100.0\n",
      "0       L. Messi   Argentina        226500.0\n",
      "4   K. De Bruyne     Belgium        196400.0\n",
      "5      E. Hazard     Belgium        172100.0\n",
      "25     K. Mbappé      France        166100.0\n",
      "17  A. Griezmann      France        165800.0\n",
      "7      L. Suárez     Uruguay        164000.0\n",
      "16       H. Kane     England        160700.0\n",
      "11      T. Kroos     Germany        156800.0\n",
      "30          Isco       Spain        156200.0\n"
     ]
    }
   ],
   "source": [
    "#ORDENAR POR RELEASE CLAUSE (SUELDO)\n",
    "#convertir Release Clause a numérico si es necesario\n",
    "df['Release Clause'] = df['Release Clause'].replace('[\\€,]', '', regex=True).astype(float)\n",
    "sorted_df = df.sort_values(by='Release Clause', ascending=False)\n",
    "print(\"Dataset ordenado por Release Clause:\")\n",
    "print(sorted_df[['Name','Nationality','Release Clause']].head(10))"
   ]
  },
  {
   "cell_type": "code",
   "execution_count": 17,
   "id": "bb59bdd8-d06a-4f91-bc52-a19b81f3d328",
   "metadata": {},
   "outputs": [
    {
     "name": "stdout",
     "output_type": "stream",
     "text": [
      "Número de jugadores por año de ingreso:\n",
      "    Joined  NumPlayers\n",
      "0     1991           1\n",
      "1     1998           3\n",
      "2     1999           1\n",
      "3     2000           2\n",
      "4     2001           2\n",
      "5     2002          10\n",
      "6     2003          13\n",
      "7     2004          12\n",
      "8     2005          17\n",
      "9     2006          18\n",
      "10    2007          38\n",
      "11    2008          53\n",
      "12    2009          78\n",
      "13    2010         131\n",
      "14    2011         201\n",
      "15    2012         340\n",
      "16    2013         458\n",
      "17    2014         818\n",
      "18    2015        1336\n",
      "19    2016        3799\n",
      "20    2017        4307\n",
      "21    2018        6569\n"
     ]
    }
   ],
   "source": [
    "#GENERAR NUEVO DATASET: AÑO Y NUMERO DE JUGADORES\n",
    "players_per_year = df.groupby('Joined').size().reset_index(name='NumPlayers')\n",
    "print(\"Número de jugadores por año de ingreso:\")\n",
    "print(players_per_year)\n",
    "\n"
   ]
  },
  {
   "cell_type": "code",
   "execution_count": 18,
   "id": "85d4e5a8-479f-43a4-aafd-2ceb14339598",
   "metadata": {},
   "outputs": [
    {
     "data": {
      "image/png": "[encoded data removed]",
      "text/plain": [
       "<Figure size 1000x600 with 1 Axes>"
      ]
     },
     "metadata": {},
     "output_type": "display_data"
    }
   ],
   "source": [
    "#GRAFICO DE JUGADORES POR AÑO\n",
    "plt.figure(figsize=(10,6))\n",
    "plt.bar(players_per_year['Joined'], players_per_year['NumPlayers'], color='skyblue')\n",
    "plt.xlabel('Año de Ingreso')\n",
    "plt.ylabel('Número de Jugadores')\n",
    "plt.title('Número de jugadores por año')\n",
    "plt.xticks(rotation=45)\n",
    "plt.show()\n"
   ]
  },
  {
   "cell_type": "code",
   "execution_count": null,
   "id": "7a76f0f2-e14f-4a59-bd82-8b467544aba8",
   "metadata": {},
   "outputs": [],
   "source": []
  }
 ],
 "metadata": {
  "kernelspec": {
   "display_name": "Python [conda env:base] *",
   "language": "python",
   "name": "conda-base-py"
  },
  "language_info": {
   "codemirror_mode": {
    "name": "ipython",
    "version": 3
   },
   "file_extension": ".py",
   "mimetype": "text/x-python",
   "name": "python",
   "nbconvert_exporter": "python",
   "pygments_lexer": "ipython3",
   "version": "3.13.5"
  }
 },
 "nbformat": 4,
 "nbformat_minor": 5
}
