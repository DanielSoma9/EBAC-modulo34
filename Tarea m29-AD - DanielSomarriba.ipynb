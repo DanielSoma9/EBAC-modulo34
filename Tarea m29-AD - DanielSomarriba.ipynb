{
 "cells": [
  {
   "cell_type": "markdown",
   "id": "a7eb7588-11ec-4616-9ea9-d8fe8b6e2076",
   "metadata": {},
   "source": [
    "# Tarea: Descarga de Datos de paginas web\n",
    "- Importar de sitio web con requests e impresion del contenido\n",
    "- Usar libreria BeautifulSoup y requests. Parseo de informacion\n",
    "- Generacion de un listado simple, ordenado de los items que aparecen en las listas\n",
    "- Uso de libreria requests con respuestas de API"
   ]
  },
  {
   "cell_type": "code",
   "execution_count": 2,
   "id": "f6188457-7a73-40e5-a10d-1351e9b23828",
   "metadata": {},
   "outputs": [],
   "source": [
    "#Importar librerias que se van a usar\n",
    "from bs4 import BeautifulSoup\n",
    "import requests"
   ]
  },
  {
   "cell_type": "markdown",
   "id": "2cdee018-0a64-4deb-8ca3-44ab8abc1192",
   "metadata": {},
   "source": [
    "## Se usara una API gratuita que nos proporciono el tutor de la clase\n",
    "\n",
    "### Paso 1: API que se escogio\n",
    "- URL base: https://dog.ceo/api/breeds/list/all → devuelve todas las razas de perros en JSON.\n",
    "- URL para imagen aleatoria de una raza: https://dog.ceo/api/breed/{raza}/images/random"
   ]
  },
  {
   "cell_type": "code",
   "execution_count": 6,
   "id": "315e7800-6baa-4a1d-b587-8644e0092e73",
   "metadata": {},
   "outputs": [
    {
     "data": {
      "text/plain": [
       "{'message': {'affenpinscher': [], 'african': [], 'airedale': [], 'akita': []},\n",
       " 'status': 'success'}"
      ]
     },
     "execution_count": 6,
     "metadata": {},
     "output_type": "execute_result"
    }
   ],
   "source": [
    "{\n",
    "  \"message\": {\n",
    "    \"affenpinscher\": [],\n",
    "    \"african\": [],\n",
    "    \"airedale\": [],\n",
    "    \"akita\": []\n",
    "  },\n",
    "  \"status\": \"success\"\n",
    "}\n"
   ]
  },
  {
   "cell_type": "markdown",
   "id": "333f7b57-d397-4c47-9e1a-95a4632573c7",
   "metadata": {},
   "source": [
    "### Paso 2: Descargar listado de razas\n"
   ]
  },
  {
   "cell_type": "code",
   "execution_count": 7,
   "id": "efc16771-5679-4483-a085-4f207bcd9e77",
   "metadata": {},
   "outputs": [
    {
     "name": "stdout",
     "output_type": "stream",
     "text": [
      "Consulta exitosa\n"
     ]
    }
   ],
   "source": [
    "# URL de todas las razas\n",
    "url = \"https://dog.ceo/api/breeds/list/all\"\n",
    "\n",
    "response = requests.get(url)\n",
    "if response.status_code == 200:\n",
    "    data = response.json()\n",
    "    print(\"Consulta exitosa\")\n",
    "else:\n",
    "    print(\"Error:\", response.status_code)\n"
   ]
  },
  {
   "cell_type": "markdown",
   "id": "5e797384-b1b2-455b-a807-2d6c3fe8e573",
   "metadata": {},
   "source": [
    "### Paso 3: Explorar y parsear los datos"
   ]
  },
  {
   "cell_type": "code",
   "execution_count": 9,
   "id": "e4070be8-dcb4-4f11-966b-67a90715cfdf",
   "metadata": {},
   "outputs": [
    {
     "name": "stdout",
     "output_type": "stream",
     "text": [
      "Se encontraron 165 razas. Ejemplo de 10:\n",
      "['affenpinscher', 'african wild', 'airedale', 'akita', 'appenzeller', 'australian kelpie', 'australian shepherd', 'bakharwal indian', 'basenji', 'beagle']\n"
     ]
    }
   ],
   "source": [
    "# data[\"message\"] contiene un diccionario: {raza: [subrazas]}\n",
    "razas_dict = data[\"message\"]\n",
    "\n",
    "# Convertir en lista simple de razas\n",
    "razas = []\n",
    "for raza, subrazas in razas_dict.items():\n",
    "    if subrazas:\n",
    "        for sub in subrazas:\n",
    "            razas.append(f\"{raza} {sub}\")\n",
    "    else:\n",
    "        razas.append(raza)\n",
    "\n",
    "print(f\"Se encontraron {len(razas)} razas. Ejemplo de 10:\")\n",
    "print(razas[:10])\n"
   ]
  },
  {
   "cell_type": "markdown",
   "id": "cd3490c6-5489-43cd-b03d-ecb7b6b9982f",
   "metadata": {},
   "source": [
    "### Paso 4: Guardar listado CSV"
   ]
  },
  {
   "cell_type": "code",
   "execution_count": 12,
   "id": "58ecd08c-a7b9-42c7-a752-0fa84d294348",
   "metadata": {},
   "outputs": [
    {
     "name": "stdout",
     "output_type": "stream",
     "text": [
      "Archivo razas_perros.csv guardado correctamente\n"
     ]
    }
   ],
   "source": [
    "import csv\n",
    "\n",
    "imagenes = []\n",
    "with open(\"razas_perros.csv\", \"w\", newline=\"\", encoding=\"utf-8\") as f:\n",
    "    campos = [\"raza\", \"imagen\"]\n",
    "    writer = csv.DictWriter(f, fieldnames=campos)\n",
    "    writer.writeheader()\n",
    "    for item in imagenes:\n",
    "        writer.writerow(item)\n",
    "\n",
    "print(\"Archivo razas_perros.csv guardado correctamente\")\n"
   ]
  },
  {
   "cell_type": "markdown",
   "id": "f580c1fd-cd09-4b01-8955-f8aa39639bad",
   "metadata": {},
   "source": [
    "### NOTA IMPORTANTE: API\n",
    "An API (Application Programming Interface) allows you to send and receive data from a remote server, like querying a database. This is helpful when you're building an app or pulling metrics for reporting, because it means you can focus on presenting information in a unique or useful manner, rather than developing the underlying data set. For example, most weather apps get their weather forecast data from a weather API, rather than building weather stations themselves. For more detailed information on how APIs work, see here.\n",
    "\n",
    "While most APIs require access via API keys (which are similar to passwords), or have complex methods of authentication, there are also quite a few APIs with no requirements at all. This is especially useful for beginners, as it means you can start exploring different APIs right away. It is also useful for web developers looking to access a sample data set for testing."
   ]
  },
  {
   "cell_type": "code",
   "execution_count": null,
   "id": "2fcb3400-4944-4d7b-a32d-6b29c911a1ac",
   "metadata": {},
   "outputs": [],
   "source": []
  }
 ],
 "metadata": {
  "kernelspec": {
   "display_name": "Python [conda env:base] *",
   "language": "python",
   "name": "conda-base-py"
  },
  "language_info": {
   "codemirror_mode": {
    "name": "ipython",
    "version": 3
   },
   "file_extension": ".py",
   "mimetype": "text/x-python",
   "name": "python",
   "nbconvert_exporter": "python",
   "pygments_lexer": "ipython3",
   "version": "3.13.5"
  }
 },
 "nbformat": 4,
 "nbformat_minor": 5
}
